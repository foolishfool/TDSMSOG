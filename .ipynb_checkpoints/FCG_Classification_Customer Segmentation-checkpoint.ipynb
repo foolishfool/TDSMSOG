{
 "cells": [
  {
   "cell_type": "code",
   "execution_count": 1,
   "id": "c389a61e",
   "metadata": {
    "scrolled": false
   },
   "outputs": [],
   "source": [
    "#THIS CODE ONLY DO THE WHOLE DATA TRAINING, NO CROSS_VALIDATION AND FEATURE SELECTION\n",
    "import pandas as pd\n",
    "#numpy-1.21.4\n",
    "import numpy as np\n",
    "import dataset_read\n",
    "import researchpy as rp\n",
    "import scipy.stats as stats\n",
    "import matplotlib.pyplot as plt\n",
    "import collections\n",
    "import warnings\n",
    "warnings.filterwarnings(\"ignore\", category=np.VisibleDeprecationWarning) \n",
    "dataread = dataset_read.DATAREAD()"
   ]
  },
  {
   "cell_type": "code",
   "execution_count": 2,
   "id": "f83a1461",
   "metadata": {
    "scrolled": false
   },
   "outputs": [
    {
     "ename": "ValueError",
     "evalue": "Cannot take a larger sample than population when 'replace=False'",
     "output_type": "error",
     "traceback": [
      "\u001b[1;31m---------------------------------------------------------------------------\u001b[0m",
      "\u001b[1;31mValueError\u001b[0m                                Traceback (most recent call last)",
      "Cell \u001b[1;32mIn[2], line 7\u001b[0m\n\u001b[0;32m      4\u001b[0m csv2 \u001b[38;5;241m=\u001b[39m csv2\u001b[38;5;241m.\u001b[39mdrop(columns\u001b[38;5;241m=\u001b[39m[\u001b[38;5;124m'\u001b[39m\u001b[38;5;124mID\u001b[39m\u001b[38;5;124m'\u001b[39m])   \n\u001b[0;32m      6\u001b[0m csv \u001b[38;5;241m=\u001b[39m csv\u001b[38;5;241m.\u001b[39msample(\u001b[38;5;28mint\u001b[39m(csv\u001b[38;5;241m.\u001b[39mshape[\u001b[38;5;241m0\u001b[39m]\u001b[38;5;241m*\u001b[39m\u001b[38;5;241m1\u001b[39m))\n\u001b[1;32m----> 7\u001b[0m csv2 \u001b[38;5;241m=\u001b[39m \u001b[43mcsv2\u001b[49m\u001b[38;5;241;43m.\u001b[39;49m\u001b[43msample\u001b[49m\u001b[43m(\u001b[49m\u001b[38;5;28;43mint\u001b[39;49m\u001b[43m(\u001b[49m\u001b[43mcsv\u001b[49m\u001b[38;5;241;43m.\u001b[39;49m\u001b[43mshape\u001b[49m\u001b[43m[\u001b[49m\u001b[38;5;241;43m0\u001b[39;49m\u001b[43m]\u001b[49m\u001b[38;5;241;43m*\u001b[39;49m\u001b[38;5;241;43m1\u001b[39;49m\u001b[43m)\u001b[49m\u001b[43m)\u001b[49m\n\u001b[0;32m     11\u001b[0m csv[\u001b[38;5;124m'\u001b[39m\u001b[38;5;124mFamily_Size\u001b[39m\u001b[38;5;124m'\u001b[39m] \u001b[38;5;241m=\u001b[39m pd\u001b[38;5;241m.\u001b[39mto_numeric(csv[\u001b[38;5;124m'\u001b[39m\u001b[38;5;124mFamily_Size\u001b[39m\u001b[38;5;124m'\u001b[39m])\n\u001b[0;32m     12\u001b[0m csv2[\u001b[38;5;124m'\u001b[39m\u001b[38;5;124mFamily_Size\u001b[39m\u001b[38;5;124m'\u001b[39m] \u001b[38;5;241m=\u001b[39m pd\u001b[38;5;241m.\u001b[39mto_numeric(csv2[\u001b[38;5;124m'\u001b[39m\u001b[38;5;124mFamily_Size\u001b[39m\u001b[38;5;124m'\u001b[39m])\n",
      "File \u001b[1;32m~\\anaconda3\\envs\\gpu_env\\lib\\site-packages\\pandas\\core\\generic.py:5365\u001b[0m, in \u001b[0;36mNDFrame.sample\u001b[1;34m(self, n, frac, replace, weights, random_state, axis, ignore_index)\u001b[0m\n\u001b[0;32m   5360\u001b[0m \u001b[38;5;28;01mif\u001b[39;00m n \u001b[38;5;241m<\u001b[39m \u001b[38;5;241m0\u001b[39m:\n\u001b[0;32m   5361\u001b[0m     \u001b[38;5;28;01mraise\u001b[39;00m \u001b[38;5;167;01mValueError\u001b[39;00m(\n\u001b[0;32m   5362\u001b[0m         \u001b[38;5;124m\"\u001b[39m\u001b[38;5;124mA negative number of rows requested. Please provide positive value.\u001b[39m\u001b[38;5;124m\"\u001b[39m\n\u001b[0;32m   5363\u001b[0m     )\n\u001b[1;32m-> 5365\u001b[0m locs \u001b[38;5;241m=\u001b[39m \u001b[43mrs\u001b[49m\u001b[38;5;241;43m.\u001b[39;49m\u001b[43mchoice\u001b[49m\u001b[43m(\u001b[49m\u001b[43maxis_length\u001b[49m\u001b[43m,\u001b[49m\u001b[43m \u001b[49m\u001b[43msize\u001b[49m\u001b[38;5;241;43m=\u001b[39;49m\u001b[43mn\u001b[49m\u001b[43m,\u001b[49m\u001b[43m \u001b[49m\u001b[43mreplace\u001b[49m\u001b[38;5;241;43m=\u001b[39;49m\u001b[43mreplace\u001b[49m\u001b[43m,\u001b[49m\u001b[43m \u001b[49m\u001b[43mp\u001b[49m\u001b[38;5;241;43m=\u001b[39;49m\u001b[43mweights\u001b[49m\u001b[43m)\u001b[49m\n\u001b[0;32m   5366\u001b[0m result \u001b[38;5;241m=\u001b[39m \u001b[38;5;28mself\u001b[39m\u001b[38;5;241m.\u001b[39mtake(locs, axis\u001b[38;5;241m=\u001b[39maxis)\n\u001b[0;32m   5367\u001b[0m \u001b[38;5;28;01mif\u001b[39;00m ignore_index:\n",
      "File \u001b[1;32mmtrand.pyx:965\u001b[0m, in \u001b[0;36mnumpy.random.mtrand.RandomState.choice\u001b[1;34m()\u001b[0m\n",
      "\u001b[1;31mValueError\u001b[0m: Cannot take a larger sample than population when 'replace=False'"
     ]
    }
   ],
   "source": [
    "csv = pd.read_csv(\"CustomerSegmentation/Train.csv\")\n",
    "csv2 = pd.read_csv(\"CustomerSegmentation/Test.csv\")\n",
    "csv = csv.drop(columns=['ID','Segmentation'])\n",
    "csv2 = csv2.drop(columns=['ID'])   \n",
    "\n",
    "#csv = csv.sample(int(csv.shape[0]*1))\n",
    "#csv2 = csv2.sample(int(csv.shape[0]*1))\n",
    "\n",
    "\n",
    "\n",
    "csv['Family_Size'] = pd.to_numeric(csv['Family_Size'])\n",
    "csv2['Family_Size'] = pd.to_numeric(csv2['Family_Size'])\n",
    "csv['Work_Experience'] = pd.to_numeric(csv['Work_Experience'])\n",
    "csv2['Work_Experience'] = pd.to_numeric(csv2['Work_Experience'])\n",
    "\n",
    "\n",
    "\n",
    "dataread.label_encoding(csv,\"Gender\")\n",
    "dataread.label_encoding(csv,\"Ever_Married\")\n",
    "dataread.label_encoding(csv,\"Graduated\")\n",
    "dataread.label_encoding(csv,\"Profession\")\n",
    "dataread.label_encoding(csv,\"Spending_Score\")\n",
    "dataread.label_encoding(csv,\"Var_1\")\n",
    "dataread.label_encoding(csv,\"Family_Size\")\n",
    "dataread.label_encoding(csv,\"Work_Experience\")\n",
    "\n",
    "\n",
    "\n",
    "dataread.label_encoding(csv2,\"Gender\")\n",
    "dataread.label_encoding(csv2,\"Ever_Married\")\n",
    "dataread.label_encoding(csv2,\"Graduated\")\n",
    "dataread.label_encoding(csv2,\"Profession\")\n",
    "dataread.label_encoding(csv2,\"Spending_Score\")\n",
    "dataread.label_encoding(csv2,\"Var_1\")\n",
    "dataread.label_encoding(csv2,\"Family_Size\")\n",
    "dataread.label_encoding(csv2,\"Work_Experience\")\n",
    "\n",
    "\n",
    "\n",
    "csv_training = csv.sample(int(csv.shape[0]))\n",
    "\n",
    "csv_test = csv2\n",
    "\n",
    "\n",
    "dataread.initializedataset(csv,csv_training,csv_test,\"Var_1\")\n"
   ]
  },
  {
   "cell_type": "code",
   "execution_count": null,
   "id": "9178a35a",
   "metadata": {
    "scrolled": true
   },
   "outputs": [],
   "source": [
    "import experiment\n",
    "scope_num = 30\n",
    "topology_ratio =2\n",
    "\n",
    "experiment = experiment.Experiment()\n",
    "experiment.Ttest(dataread,scope_num,topology_ratio)"
   ]
  },
  {
   "cell_type": "code",
   "execution_count": null,
   "id": "79bfdb90",
   "metadata": {},
   "outputs": [],
   "source": []
  }
 ],
 "metadata": {
  "kernelspec": {
   "display_name": "Python (GPU)",
   "language": "python",
   "name": "gpu_env"
  },
  "language_info": {
   "codemirror_mode": {
    "name": "ipython",
    "version": 3
   },
   "file_extension": ".py",
   "mimetype": "text/x-python",
   "name": "python",
   "nbconvert_exporter": "python",
   "pygments_lexer": "ipython3",
   "version": "3.9.18"
  }
 },
 "nbformat": 4,
 "nbformat_minor": 5
}
