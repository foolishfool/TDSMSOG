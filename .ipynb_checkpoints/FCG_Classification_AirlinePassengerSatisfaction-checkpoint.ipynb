{
 "cells": [
  {
   "cell_type": "code",
   "execution_count": 1,
   "id": "1da0a0c5",
   "metadata": {
    "scrolled": false
   },
   "outputs": [],
   "source": [
    "#THIS CODE ONLY DO THE WHOLE DATA TRAINING, NO CROSS_VALIDATION AND FEATURE SELECTION\n",
    "import pandas as pd\n",
    "#numpy-1.21.4\n",
    "import numpy as np\n",
    "import dataset_read\n",
    "import researchpy as rp\n",
    "import scipy.stats as stats\n",
    "import matplotlib.pyplot as plt\n",
    "import collections\n",
    "import warnings\n",
    "warnings.filterwarnings(\"ignore\", category=np.VisibleDeprecationWarning) \n",
    "dataread = dataset_read.DATAREAD()"
   ]
  },
  {
   "cell_type": "code",
   "execution_count": 2,
   "id": "1241e0cc",
   "metadata": {
    "scrolled": true
   },
   "outputs": [
    {
     "name": "stdout",
     "output_type": "stream",
     "text": [
      "continuous_feature_num 4\n",
      "discrete_feature_num 18\n",
      "self.data_discrete_indexes ['Gender', 'Customer Type', 'Type of Travel', 'Class', 'Inflight wifi service', 'Departure/Arrival time convenient', 'Ease of Online booking', 'Gate location', 'Food and drink', 'Online boarding', 'Seat comfort', 'Inflight entertainment', 'On-board service', 'Leg room service', 'Baggage handling', 'Checkin service', 'Inflight service', 'Cleanliness'] \n"
     ]
    }
   ],
   "source": [
    "csv = pd.read_csv(\"Airline Passenger Satisfaction/train.csv\")\n",
    "csv2 = pd.read_csv(\"Airline Passenger Satisfaction/test.csv\")\n",
    "csv = csv.sample(int(csv.shape[0]*0.5))\n",
    "csv = csv.drop(columns=['id'])\n",
    "csv2 = csv2.drop(columns=['id'])   \n",
    "\n",
    "\n",
    "#dataread.stringToIntAirlinePassengerSatisfactionDataSet(csv,\"Arrival Delay in Minutes\")\n",
    "#dataread.stringToIntAirlinePassengerSatisfactionDataSet(csv2,\"Arrival Delay in Minutes\")\n",
    "\n",
    "\n",
    "\n",
    "dataread.label_encoding(csv,\"Gender\")\n",
    "dataread.label_encoding(csv,\"Customer Type\")\n",
    "dataread.label_encoding(csv,\"Type of Travel\")\n",
    "dataread.label_encoding(csv,\"Class\")\n",
    "dataread.label_encoding(csv,\"satisfaction\")\n",
    "\n",
    "\n",
    "dataread.label_encoding(csv2,\"Gender\")\n",
    "dataread.label_encoding(csv2,\"Customer Type\")\n",
    "dataread.label_encoding(csv2,\"Type of Travel\")\n",
    "dataread.label_encoding(csv2,\"Class\")\n",
    "dataread.label_encoding(csv2,\"satisfaction\")\n",
    "\n",
    "#print(csv)\n",
    "csv_training = csv.sample(int(csv.shape[0]*0.03))\n",
    "csv_test = csv2.sample(int(csv2.shape[0]*0.1))\n",
    "\n",
    "dataread.initializedataset(csv,csv_training,csv_test,\"satisfaction\")\n"
   ]
  },
  {
   "cell_type": "code",
   "execution_count": null,
   "id": "89d13af0",
   "metadata": {
    "scrolled": true
   },
   "outputs": [
    {
     "name": "stdout",
     "output_type": "stream",
     "text": [
      "Experiment number: 1\n",
      "key 0, choosen_index123\n",
      "key 1, choosen_index133\n",
      "accuracy_score_baseline 0.8790912591451675\n",
      "recall_score_baseline 0.8728023830460675\n",
      "precision_score_baseline 0.8808876359491018\n",
      "f1_score_baseline 0.8758598159068378\n",
      "accuracy_score_fcg 0.862148633038121\n",
      "recall_score_fcg 0.8642610036150987\n",
      "precision_score_fcg 0.8595475484318799\n",
      "f1_score_fcg 0.8608902654337613\n",
      "Not good accuracy result !!!!!\n",
      "Not good recall_score result !!!!!\n",
      "Not good precision_score_ !!!!!\n",
      "Not good accuracy result !!!!!\n",
      "Experiment number: 2\n",
      "key 0, choosen_index606\n",
      "key 1, choosen_index952\n",
      "accuracy_score_baseline 0.8790912591451675\n",
      "recall_score_baseline 0.8728023830460675\n",
      "precision_score_baseline 0.8808876359491018\n",
      "f1_score_baseline 0.8758598159068378\n",
      "accuracy_score_fcg 0.862148633038121\n",
      "recall_score_fcg 0.8642610036150987\n",
      "precision_score_fcg 0.8595475484318799\n",
      "f1_score_fcg 0.8608902654337613\n",
      "Not good accuracy result !!!!!\n",
      "Not good recall_score result !!!!!\n",
      "Not good precision_score_ !!!!!\n",
      "Not good accuracy result !!!!!\n",
      "Experiment number: 3\n",
      "key 0, choosen_index407\n",
      "key 1, choosen_index47\n"
     ]
    }
   ],
   "source": [
    "import experiment\n",
    "scope_num = 50\n",
    "topology_ratio =3\n",
    "\n",
    "experiment = experiment.Experiment()\n",
    "experiment.Ttest(dataread,scope_num,topology_ratio)"
   ]
  },
  {
   "cell_type": "code",
   "execution_count": null,
   "id": "08ceea2a",
   "metadata": {},
   "outputs": [],
   "source": []
  }
 ],
 "metadata": {
  "kernelspec": {
   "display_name": "Python (GPU)",
   "language": "python",
   "name": "gpu_env"
  },
  "language_info": {
   "codemirror_mode": {
    "name": "ipython",
    "version": 3
   },
   "file_extension": ".py",
   "mimetype": "text/x-python",
   "name": "python",
   "nbconvert_exporter": "python",
   "pygments_lexer": "ipython3",
   "version": "3.9.18"
  }
 },
 "nbformat": 4,
 "nbformat_minor": 5
}
